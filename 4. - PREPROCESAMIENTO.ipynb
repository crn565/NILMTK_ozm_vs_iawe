{
 "cells": [
  {
   "cell_type": "markdown",
   "metadata": {},
   "source": [
    "# Preprocesamiento"
   ]
  },
  {
   "cell_type": "markdown",
   "metadata": {},
   "source": [
    "En esta cuarta etapa se van a tomar decisiones en línea con las estadísticas y análisis con tal de  preparar correctamente los datos que serán parte del entrenamiento y posterior validación de los modelos de predicción."
   ]
  },
  {
   "cell_type": "code",
   "execution_count": 1,
   "metadata": {},
   "outputs": [],
   "source": [
    "%matplotlib inline\n",
    "import pandas as pd\n",
    "import matplotlib.pyplot as plt\n",
    "from matplotlib import rcParams\n",
    "from nilmtk import DataSet\n",
    "import warnings\n",
    "from nilmtk import TimeFrame\n",
    "warnings. filterwarnings(\"ignore\")\n",
    "plt.style.use('bmh')\n",
    "\n"
   ]
  },
  {
   "cell_type": "code",
   "execution_count": 2,
   "metadata": {},
   "outputs": [],
   "source": [
    "#dataset de referencia \n",
    "deps = DataSet('iawe.h5')\n",
    "\n",
    "elec=deps.buildings[1].elec # Todos los medidores\n",
    "\n",
    "labels = pd.DataFrame({'Instances': list(range(1,13)),\n",
    "                        'Meters': ['Medidor Princ.','M2', 'M.Fridge', 'M.AA', 'M.AA', 'M.Washing machine.','Computer','Clothes iron','unknown','tv','wet appliance','motor']})\n",
    "\n",
    "Meters={}\n",
    "for x in range(len(labels)): Meters[elec[x+1]]=labels['Meters'][x]"
   ]
  },
  {
   "cell_type": "markdown",
   "metadata": {},
   "source": [
    "## Cambio en el muestreo de datos e interpolación"
   ]
  },
  {
   "cell_type": "markdown",
   "metadata": {},
   "source": [
    "Veamos si hay  seccion faltante"
   ]
  },
  {
   "cell_type": "code",
   "execution_count": 3,
   "metadata": {},
   "outputs": [
    {
     "data": {
      "text/plain": [
       "TimeFrame(start='2013-05-24 05:30:00+05:30', end='2013-05-24 07:13:35+05:30', empty=False)"
      ]
     },
     "execution_count": 3,
     "metadata": {},
     "output_type": "execute_result"
    }
   ],
   "source": [
    "tf=elec[1].good_sections(full_results=True).combined()[0]\n",
    "tf"
   ]
  },
  {
   "cell_type": "markdown",
   "metadata": {},
   "source": [
    " Muestreo cada 10 segundos, promediando datos (mean)  y usando metodo relleno=ffill"
   ]
  },
  {
   "cell_type": "code",
   "execution_count": 8,
   "metadata": {},
   "outputs": [
    {
     "data": {
      "text/html": [
       "<div>\n",
       "<style scoped>\n",
       "    .dataframe tbody tr th:only-of-type {\n",
       "        vertical-align: middle;\n",
       "    }\n",
       "\n",
       "    .dataframe tbody tr th {\n",
       "        vertical-align: top;\n",
       "    }\n",
       "\n",
       "    .dataframe thead tr th {\n",
       "        text-align: left;\n",
       "    }\n",
       "</style>\n",
       "<table border=\"1\" class=\"dataframe\">\n",
       "  <thead>\n",
       "    <tr>\n",
       "      <th>physical_quantity</th>\n",
       "      <th colspan=\"3\" halign=\"left\">power</th>\n",
       "      <th>current</th>\n",
       "    </tr>\n",
       "    <tr>\n",
       "      <th>type</th>\n",
       "      <th>apparent</th>\n",
       "      <th>active</th>\n",
       "      <th>reactive</th>\n",
       "      <th></th>\n",
       "    </tr>\n",
       "  </thead>\n",
       "  <tbody>\n",
       "    <tr>\n",
       "      <th>2013-05-24 10:00:00+05:30</th>\n",
       "      <td>22.692671</td>\n",
       "      <td>11.139330</td>\n",
       "      <td>6.000030e-18</td>\n",
       "      <td>0.095233</td>\n",
       "    </tr>\n",
       "    <tr>\n",
       "      <th>2013-05-24 10:00:10+05:30</th>\n",
       "      <td>21.761490</td>\n",
       "      <td>10.492930</td>\n",
       "      <td>6.000030e-18</td>\n",
       "      <td>0.091270</td>\n",
       "    </tr>\n",
       "    <tr>\n",
       "      <th>2013-05-24 10:00:20+05:30</th>\n",
       "      <td>22.039511</td>\n",
       "      <td>10.587800</td>\n",
       "      <td>6.000030e-18</td>\n",
       "      <td>0.092401</td>\n",
       "    </tr>\n",
       "    <tr>\n",
       "      <th>2013-05-24 10:00:30+05:30</th>\n",
       "      <td>21.285959</td>\n",
       "      <td>10.384950</td>\n",
       "      <td>6.000030e-18</td>\n",
       "      <td>0.089214</td>\n",
       "    </tr>\n",
       "    <tr>\n",
       "      <th>2013-05-24 10:00:40+05:30</th>\n",
       "      <td>21.692209</td>\n",
       "      <td>10.765520</td>\n",
       "      <td>6.000030e-18</td>\n",
       "      <td>0.090912</td>\n",
       "    </tr>\n",
       "    <tr>\n",
       "      <th>...</th>\n",
       "      <td>...</td>\n",
       "      <td>...</td>\n",
       "      <td>...</td>\n",
       "      <td>...</td>\n",
       "    </tr>\n",
       "    <tr>\n",
       "      <th>2013-08-05 21:02:30+05:30</th>\n",
       "      <td>27.105490</td>\n",
       "      <td>14.904545</td>\n",
       "      <td>6.000030e-18</td>\n",
       "      <td>0.111997</td>\n",
       "    </tr>\n",
       "    <tr>\n",
       "      <th>2013-08-05 21:02:40+05:30</th>\n",
       "      <td>26.747633</td>\n",
       "      <td>14.908183</td>\n",
       "      <td>6.000030e-18</td>\n",
       "      <td>0.110538</td>\n",
       "    </tr>\n",
       "    <tr>\n",
       "      <th>2013-08-05 21:02:50+05:30</th>\n",
       "      <td>26.855419</td>\n",
       "      <td>14.947820</td>\n",
       "      <td>6.000030e-18</td>\n",
       "      <td>0.110995</td>\n",
       "    </tr>\n",
       "    <tr>\n",
       "      <th>2013-08-05 21:03:00+05:30</th>\n",
       "      <td>26.777824</td>\n",
       "      <td>14.929925</td>\n",
       "      <td>6.000030e-18</td>\n",
       "      <td>0.110665</td>\n",
       "    </tr>\n",
       "    <tr>\n",
       "      <th>2013-08-05 21:03:10+05:30</th>\n",
       "      <td>26.736681</td>\n",
       "      <td>14.915501</td>\n",
       "      <td>6.000030e-18</td>\n",
       "      <td>0.110462</td>\n",
       "    </tr>\n",
       "  </tbody>\n",
       "</table>\n",
       "<p>634700 rows × 4 columns</p>\n",
       "</div>"
      ],
      "text/plain": [
       "physical_quantity              power                            current\n",
       "type                        apparent     active      reactive          \n",
       "2013-05-24 10:00:00+05:30  22.692671  11.139330  6.000030e-18  0.095233\n",
       "2013-05-24 10:00:10+05:30  21.761490  10.492930  6.000030e-18  0.091270\n",
       "2013-05-24 10:00:20+05:30  22.039511  10.587800  6.000030e-18  0.092401\n",
       "2013-05-24 10:00:30+05:30  21.285959  10.384950  6.000030e-18  0.089214\n",
       "2013-05-24 10:00:40+05:30  21.692209  10.765520  6.000030e-18  0.090912\n",
       "...                              ...        ...           ...       ...\n",
       "2013-08-05 21:02:30+05:30  27.105490  14.904545  6.000030e-18  0.111997\n",
       "2013-08-05 21:02:40+05:30  26.747633  14.908183  6.000030e-18  0.110538\n",
       "2013-08-05 21:02:50+05:30  26.855419  14.947820  6.000030e-18  0.110995\n",
       "2013-08-05 21:03:00+05:30  26.777824  14.929925  6.000030e-18  0.110665\n",
       "2013-08-05 21:03:10+05:30  26.736681  14.915501  6.000030e-18  0.110462\n",
       "\n",
       "[634700 rows x 4 columns]"
      ]
     },
     "execution_count": 8,
     "metadata": {},
     "output_type": "execute_result"
    }
   ],
   "source": [
    "ta = '2013-05-24 05:30:00+01:00' #tiempo inicial\n",
    "tb = '2013-09-18 12:58:00+01:00' #tiempo final\n",
    "\n",
    "next(elec[1].load(sample_period=10, resample_kwargs={'fill_method':'ffill', 'how': 'mean'}))[ta:tb]"
   ]
  },
  {
   "cell_type": "markdown",
   "metadata": {},
   "source": [
    "Muestreo cada 10 segundos, promediando datos (mean) como metodo de relleno y usando el primer dato"
   ]
  },
  {
   "cell_type": "code",
   "execution_count": 9,
   "metadata": {},
   "outputs": [
    {
     "data": {
      "text/html": [
       "<div>\n",
       "<style scoped>\n",
       "    .dataframe tbody tr th:only-of-type {\n",
       "        vertical-align: middle;\n",
       "    }\n",
       "\n",
       "    .dataframe tbody tr th {\n",
       "        vertical-align: top;\n",
       "    }\n",
       "\n",
       "    .dataframe thead tr th {\n",
       "        text-align: left;\n",
       "    }\n",
       "</style>\n",
       "<table border=\"1\" class=\"dataframe\">\n",
       "  <thead>\n",
       "    <tr>\n",
       "      <th>physical_quantity</th>\n",
       "      <th colspan=\"3\" halign=\"left\">power</th>\n",
       "      <th>current</th>\n",
       "    </tr>\n",
       "    <tr>\n",
       "      <th>type</th>\n",
       "      <th>apparent</th>\n",
       "      <th>active</th>\n",
       "      <th>reactive</th>\n",
       "      <th></th>\n",
       "    </tr>\n",
       "  </thead>\n",
       "  <tbody>\n",
       "    <tr>\n",
       "      <th>2013-05-24 10:00:00+05:30</th>\n",
       "      <td>22.753700</td>\n",
       "      <td>11.3834</td>\n",
       "      <td>6.000030e-18</td>\n",
       "      <td>0.095527</td>\n",
       "    </tr>\n",
       "    <tr>\n",
       "      <th>2013-05-24 10:00:10+05:30</th>\n",
       "      <td>21.792801</td>\n",
       "      <td>10.4745</td>\n",
       "      <td>6.000030e-18</td>\n",
       "      <td>0.091420</td>\n",
       "    </tr>\n",
       "    <tr>\n",
       "      <th>2013-05-24 10:00:20+05:30</th>\n",
       "      <td>22.254499</td>\n",
       "      <td>10.4771</td>\n",
       "      <td>6.000030e-18</td>\n",
       "      <td>0.093321</td>\n",
       "    </tr>\n",
       "    <tr>\n",
       "      <th>2013-05-24 10:00:30+05:30</th>\n",
       "      <td>21.227800</td>\n",
       "      <td>10.3995</td>\n",
       "      <td>6.000030e-18</td>\n",
       "      <td>0.088972</td>\n",
       "    </tr>\n",
       "    <tr>\n",
       "      <th>2013-05-24 10:00:40+05:30</th>\n",
       "      <td>21.397800</td>\n",
       "      <td>10.4146</td>\n",
       "      <td>6.000030e-18</td>\n",
       "      <td>0.089681</td>\n",
       "    </tr>\n",
       "    <tr>\n",
       "      <th>...</th>\n",
       "      <td>...</td>\n",
       "      <td>...</td>\n",
       "      <td>...</td>\n",
       "      <td>...</td>\n",
       "    </tr>\n",
       "    <tr>\n",
       "      <th>2013-08-05 21:02:30+05:30</th>\n",
       "      <td>26.413799</td>\n",
       "      <td>14.8985</td>\n",
       "      <td>6.000030e-18</td>\n",
       "      <td>0.109131</td>\n",
       "    </tr>\n",
       "    <tr>\n",
       "      <th>2013-08-05 21:02:40+05:30</th>\n",
       "      <td>26.996500</td>\n",
       "      <td>14.8993</td>\n",
       "      <td>6.000030e-18</td>\n",
       "      <td>0.111557</td>\n",
       "    </tr>\n",
       "    <tr>\n",
       "      <th>2013-08-05 21:02:50+05:30</th>\n",
       "      <td>26.809401</td>\n",
       "      <td>14.9530</td>\n",
       "      <td>6.000030e-18</td>\n",
       "      <td>0.110803</td>\n",
       "    </tr>\n",
       "    <tr>\n",
       "      <th>2013-08-05 21:03:00+05:30</th>\n",
       "      <td>26.812901</td>\n",
       "      <td>14.9581</td>\n",
       "      <td>6.000030e-18</td>\n",
       "      <td>0.110816</td>\n",
       "    </tr>\n",
       "    <tr>\n",
       "      <th>2013-08-05 21:03:10+05:30</th>\n",
       "      <td>26.733601</td>\n",
       "      <td>14.8999</td>\n",
       "      <td>6.000030e-18</td>\n",
       "      <td>0.110467</td>\n",
       "    </tr>\n",
       "  </tbody>\n",
       "</table>\n",
       "<p>634700 rows × 4 columns</p>\n",
       "</div>"
      ],
      "text/plain": [
       "physical_quantity              power                          current\n",
       "type                        apparent   active      reactive          \n",
       "2013-05-24 10:00:00+05:30  22.753700  11.3834  6.000030e-18  0.095527\n",
       "2013-05-24 10:00:10+05:30  21.792801  10.4745  6.000030e-18  0.091420\n",
       "2013-05-24 10:00:20+05:30  22.254499  10.4771  6.000030e-18  0.093321\n",
       "2013-05-24 10:00:30+05:30  21.227800  10.3995  6.000030e-18  0.088972\n",
       "2013-05-24 10:00:40+05:30  21.397800  10.4146  6.000030e-18  0.089681\n",
       "...                              ...      ...           ...       ...\n",
       "2013-08-05 21:02:30+05:30  26.413799  14.8985  6.000030e-18  0.109131\n",
       "2013-08-05 21:02:40+05:30  26.996500  14.8993  6.000030e-18  0.111557\n",
       "2013-08-05 21:02:50+05:30  26.809401  14.9530  6.000030e-18  0.110803\n",
       "2013-08-05 21:03:00+05:30  26.812901  14.9581  6.000030e-18  0.110816\n",
       "2013-08-05 21:03:10+05:30  26.733601  14.8999  6.000030e-18  0.110467\n",
       "\n",
       "[634700 rows x 4 columns]"
      ]
     },
     "execution_count": 9,
     "metadata": {},
     "output_type": "execute_result"
    }
   ],
   "source": [
    "ta = '2013-05-24 05:30:00+01:00' #tiempo inicial\n",
    "tb = '2013-09-18 12:58:00+01:00' #tiempo final\n",
    "next(elec[1].load(sample_period=10, resample_kwargs={'fill_method':'ffill', 'how': 'first'}))[ta:tb]"
   ]
  },
  {
   "cell_type": "markdown",
   "metadata": {},
   "source": [
    "# Obtener los datos del medidor principal  cada 60 segundos.\n",
    "\n",
    "Además del parámetro sample_period=60, requerido para cambiar el muestreo a un minuto, se ha especificado como método (how) de cambio de muestreo el que provee NILMTK por defecto (mean). En el mismo diccionario resample_kwargs se ha especificado el parámetro fill_method el cual corresponderá al método elegido para rellenar los huecos. En este caso se especifica el método ffill el cual, ante un hueco, rellenará los datos faltantes hacia adelante con el valor inmediatamente anterior a la serie de tiempo"
   ]
  },
  {
   "cell_type": "code",
   "execution_count": null,
   "metadata": {},
   "outputs": [],
   "source": [
    "rcParams['figure.figsize'] = (10, 7)\n",
    "\n",
    "#definición de fechas\n",
    "ta = '2013-05-24 05:30:00+01:00' #tiempo inicial\n",
    "tb = '2013-09-18 12:58:00+01:00' #tiempo final\n",
    "\n",
    "#contador principal\n",
    "Main=elec.select(instance=[1])\n",
    "\n",
    "#definición de  gráficas\n",
    "fig, (ax4, ax1, ax2, ax3) = plt.subplots(4, 1, sharex=True,\n",
    "                                         gridspec_kw={'hspace': 0.5,'height_ratios':[1.5, 3, 3, 3]})\n",
    "\n",
    "\n",
    "#sample a segundo\n",
    "elec[1].power_series_all_data()[ta:tb].plot(ax=ax1, color='tab:red', marker=\"o\", lw=1.5)\n",
    "ax1.minorticks_off()\n",
    "ax1.set_ylabel('W')\n",
    "ax1.set_title('b) Original sample - 1s', fontsize=12, loc='left')\n",
    "ax1.annotate(\"|10:16:00 = 277 W\", xy=('2022-02-02 10:16:00+01:00', 277.6),rotation=7)\n",
    "ax1.set_ylim(275,281)\n",
    "\n",
    "\n",
    "#sample a 1 segundo metodo fill\n",
    "elec[1].power_series_all_data(sample_period=1, resample_kwargs={'fill_method': 'ffill'})[ta:tb].plot(ax=ax2, marker=\"o\", color='tab:red',lw=1.5)\n",
    "ax2.minorticks_off()\n",
    "ax2.set_ylabel('W')\n",
    "ax2.set_title('c) Resample: sample_period=1s, fill_method=ffill', fontsize=12, loc='left')\n",
    "ax2.annotate(\"|10:16:00 = 277 W\", xy=('2022-02-02 10:16:00+01:00', 277.6))\n",
    "ax2.set_ylim(275,281)\n",
    "\n",
    "\n",
    "\n",
    "#sample a 2 segundos metodo fill\n",
    "elec[1].power_series_all_data(sample_period=4,resample_kwargs={'how': 'first'})[ta:tb].plot(ax=ax3, color='k', lw=1.5, ls='--', marker=\"o\",\n",
    "                                                           markersize=8, markerfacecolor='royalblue')\n",
    "elec[1].power_series_all_data(sample_period=4, resample_kwargs={'how': 'mean'})[ta:tb].plot(ax=ax3, color='k', lw=1.5, ls='--', marker=\"v\",\n",
    "                          markersize=8, markerfacecolor='y')\n",
    "ax3.minorticks_off()\n",
    "ax3.set_ylabel('W')\n",
    "ax3.set_title('d) Resample: sample_period=2s, fill_method=ffill', fontsize=12, loc='left')\n",
    "ax3.set_ylim(275,281)\n",
    "\n",
    "\n",
    "#good sections\n",
    "import matplotlib.lines as mlines\n",
    "line1 = mlines.Line2D([], [], lw=1, c='k', ls='--', marker=\"o\", markersize=6, markerfacecolor='royalblue', label='method=first')\n",
    "line2 = mlines.Line2D([], [], lw=1, c='k', ls='--', marker=\"v\", markersize=6, markerfacecolor='y', label='method=mean')\n",
    "ax3.legend(handles=[line2, line1], fontsize=10.5, ncol=2)\n",
    "ax4=Main.plot_good_sections(ax=ax4)\n",
    "ax4.set_yticklabels(list(Meters.values()))\n",
    "ax4.grid(axis='y')\n",
    "ax4.set_title('a) Good sections (blue color)', fontsize=12, loc='left')\n",
    "l=['11:56:20','11:56:25','11:56:30','11:56:35','11:56:40','11:56:45','11:56:50']\n",
    "ax4.set_xticklabels(l, rotation=30, ha='right')\n",
    "\n",
    "#guarda gráfico\n",
    "plt.savefig('./data/images/3.1_Prepros_1.svg', bbox_inches='tight', transparent=True)\n",
    "pass"
   ]
  },
  {
   "cell_type": "markdown",
   "metadata": {},
   "source": [
    "## Filtros de dispositivos eléctricos"
   ]
  },
  {
   "cell_type": "markdown",
   "metadata": {},
   "source": [
    "Vamos a filtrar por aquellos dispositivos cuya potencia activa sea superior a 5,85kwh"
   ]
  },
  {
   "cell_type": "code",
   "execution_count": null,
   "metadata": {},
   "outputs": [],
   "source": [
    "Devices=elec.select(instance=[2,3,4,5,6,7,8,9,10,11]) #MeterGroup de dispositivos\n",
    "d=Devices.energy_per_meter().loc['active']  #energía kWh\n",
    "d[d>5.85] #filtra dispositivos menores o iguales a 5.85 kWh (5% consumo)"
   ]
  },
  {
   "cell_type": "markdown",
   "metadata": {},
   "source": [
    "Vemos  el top-k entre los dispositivos electricos conectados"
   ]
  },
  {
   "cell_type": "code",
   "execution_count": null,
   "metadata": {},
   "outputs": [],
   "source": [
    "Devices = elec.select(instance=[2,3,4,5,6,7,8,9,10,11])\n",
    "Devices.select_top_k(k=5)"
   ]
  },
  {
   "cell_type": "markdown",
   "metadata": {},
   "source": [
    "## División del dataset"
   ]
  },
  {
   "cell_type": "markdown",
   "metadata": {},
   "source": [
    "- train: conjunto de datos de entrenamiento de modelos de desagregación\n",
    "- test: conjunto de datos de validación y pruebas de modelos de desagregación"
   ]
  },
  {
   "cell_type": "markdown",
   "metadata": {},
   "source": [
    "Entrenamiento:"
   ]
  },
  {
   "cell_type": "code",
   "execution_count": null,
   "metadata": {},
   "outputs": [],
   "source": [
    "train = DataSet('iawe.h5')\n",
    "\n",
    "\n",
    "train.set_window(start=\"2013-05-24 05:30:00\", end=\"2013-07-24 05:30:00\")\n",
    "\n",
    "train_elec=train.buildings[1].elec\n",
    "\n",
    "train_elec.get_timeframe()"
   ]
  },
  {
   "cell_type": "code",
   "execution_count": null,
   "metadata": {},
   "outputs": [],
   "source": [
    "train_elec.plot()\n",
    "#no hay datos train_elec.submeters().plot()\n",
    "\n"
   ]
  },
  {
   "cell_type": "markdown",
   "metadata": {},
   "source": [
    "Validación:"
   ]
  },
  {
   "cell_type": "code",
   "execution_count": null,
   "metadata": {},
   "outputs": [],
   "source": [
    " #Validación \n",
    "\n",
    "valid = DataSet('iawe.h5')\n",
    "\n",
    "valid.set_window(start=\"2013-07-24 05:30:00\", end=\"2013-08-24 05:30:00\")\n",
    "\n",
    "valid_elec=valid.buildings[1].elec\n",
    "\n",
    "valid_elec.get_timeframe()"
   ]
  },
  {
   "cell_type": "code",
   "execution_count": null,
   "metadata": {},
   "outputs": [],
   "source": [
    "valid_elec.mains().plot()\n",
    "valid_elec.submeters().plot()"
   ]
  },
  {
   "cell_type": "markdown",
   "metadata": {},
   "source": [
    "Pruebas"
   ]
  },
  {
   "cell_type": "code",
   "execution_count": null,
   "metadata": {},
   "outputs": [],
   "source": [
    "test = DataSet('iawe.h5') #Pruebas\n",
    "\n",
    "test.set_window(start=\"2013-08-24 05:30:00\", end=\"2013-09-18 08:40:00\")\n",
    "test_elec=test.buildings[1].elec\n",
    "\n",
    "test_elec.get_timeframe()"
   ]
  },
  {
   "cell_type": "code",
   "execution_count": null,
   "metadata": {},
   "outputs": [],
   "source": [
    "test_elec.mains().plot()"
   ]
  },
  {
   "cell_type": "code",
   "execution_count": null,
   "metadata": {},
   "outputs": [],
   "source": []
  }
 ],
 "metadata": {
  "kernelspec": {
   "display_name": "Python 3",
   "language": "python",
   "name": "python3"
  },
  "language_info": {
   "codemirror_mode": {
    "name": "ipython",
    "version": 3
   },
   "file_extension": ".py",
   "mimetype": "text/x-python",
   "name": "python",
   "nbconvert_exporter": "python",
   "pygments_lexer": "ipython3",
   "version": "3.6.13"
  }
 },
 "nbformat": 4,
 "nbformat_minor": 4
}
