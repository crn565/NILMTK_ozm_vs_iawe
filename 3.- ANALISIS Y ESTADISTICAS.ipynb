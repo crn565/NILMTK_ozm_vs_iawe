{
 "cells": [
  {
   "cell_type": "markdown",
   "metadata": {},
   "source": [
    "##  3- Análisis gráfico global  y algunas estadísticas"
   ]
  },
  {
   "cell_type": "markdown",
   "metadata": {},
   "source": [
    "En este  cuaderno vamos  ver algunas de las  funciones que dispone NILMTK para realizar un diagnóstico rápido del dataset.  Asimismo también se disponen de algunas funciones para obtener datos estadísticos basados en el uso y consumo de energía de los elementos."
   ]
  },
  {
   "cell_type": "markdown",
   "metadata": {},
   "source": [
    "En primer lugar debemos cargar las  librerías como pandas,matplotlib, nilmtk y SVG .\n",
    "\n",
    "Asimismo realizaremos otros ajustes:"
   ]
  },
  {
   "cell_type": "code",
   "execution_count": 1,
   "metadata": {},
   "outputs": [],
   "source": [
    "%matplotlib inline\n",
    "import pandas as pd\n",
    "import matplotlib.pyplot as plt\n",
    "from matplotlib import rcParams\n",
    "from nilmtk import DataSet, TimeFrame\n",
    "import warnings\n",
    "from IPython.display import SVG\n",
    "\n",
    "warnings. filterwarnings(\"ignore\")\n",
    "plt.style.use('bmh')\n",
    "\n"
   ]
  },
  {
   "cell_type": "markdown",
   "metadata": {},
   "source": [
    "Cargamos ahora el dataset y asociamos las etiquetas para los gráficos"
   ]
  },
  {
   "cell_type": "code",
   "execution_count": 2,
   "metadata": {},
   "outputs": [
    {
     "name": "stdout",
     "output_type": "stream",
     "text": [
      "MeterGroup(meters=\n",
      "  ElecMeter(instance=1, building=1, dataset='iAWE', site_meter, appliances=[])\n",
      "  ElecMeter(instance=2, building=1, dataset='iAWE', site_meter, appliances=[])\n",
      "  ElecMeter(instance=3, building=1, dataset='iAWE', appliances=[Appliance(type='fridge', instance=1)])\n",
      "  ElecMeter(instance=4, building=1, dataset='iAWE', appliances=[Appliance(type='air conditioner', instance=1)])\n",
      "  ElecMeter(instance=5, building=1, dataset='iAWE', appliances=[Appliance(type='air conditioner', instance=2)])\n",
      "  ElecMeter(instance=6, building=1, dataset='iAWE', appliances=[Appliance(type='washing machine', instance=1)])\n",
      "  ElecMeter(instance=7, building=1, dataset='iAWE', appliances=[Appliance(type='computer', instance=1)])\n",
      "  ElecMeter(instance=8, building=1, dataset='iAWE', appliances=[Appliance(type='clothes iron', instance=1)])\n",
      "  ElecMeter(instance=9, building=1, dataset='iAWE', appliances=[Appliance(type='unknown', instance=1)])\n",
      "  ElecMeter(instance=10, building=1, dataset='iAWE', appliances=[Appliance(type='television', instance=1)])\n",
      "  ElecMeter(instance=11, building=1, dataset='iAWE', appliances=[Appliance(type='wet appliance', instance=1)])\n",
      "  ElecMeter(instance=12, building=1, dataset='iAWE', appliances=[Appliance(type='motor', instance=1)])\n",
      ")\n",
      "{}\n"
     ]
    }
   ],
   "source": [
    "#dataset de referencia \n",
    "deps = DataSet('iawe.h5')\n",
    "\n",
    "\n",
    "\n",
    "elec=deps.buildings[1].elec # Todos los medidores\n",
    "\n",
    "print (elec)\n",
    "\n",
    "\n",
    "labels = pd.DataFrame({'Instances': list(range(1,13)),\n",
    "                       'Meters': ['Medidor Princ.','M2', 'M.Fridge', 'M.AA', 'M.AA', 'M.Washing machine.','Computer','Clothes iron','unknown','tv','wet appliance','motor']})\n",
    "\n",
    "Meters={}\n",
    "#for x in range(len(labels)): Meters[elec[x+1]]=labels['Meters'][x] \n",
    "    \n",
    "print(Meters)\n",
    "\n",
    "\n",
    "#etiquetas eje x en algunos graficos\n",
    "days = [  '2013-05-24 05:30:00+01:00','2013-09-18 08:40:00+01:00' ]\n",
    "\n",
    "colors_1 = ['tab:red','tab:brown','tab:gray','tab:pink','tab:blue','tab:orange','tab:green','tab:red','tab:brown','tab:gray','tab:pink','tab:blue','tab:orange','tab:green']\n",
    "colors_2 = [colors_1[0]]+colors_1[4:]"
   ]
  },
  {
   "cell_type": "markdown",
   "metadata": {},
   "source": [
    "Ahora vamos a realizar los gráficos con  todos los datos de potencia de forma comprimida en un solo gráfico:"
   ]
  },
  {
   "cell_type": "code",
   "execution_count": 3,
   "metadata": {},
   "outputs": [],
   "source": [
    "colors_2[:6]\n",
    "t0 = '2013-05-24 05:30:00+01:00' #tiempo inicial\n",
    "t1 = '2013-09-18 12:58:00+01:00' #tiempo final"
   ]
  },
  {
   "cell_type": "markdown",
   "metadata": {},
   "source": [
    "Tambien podemos obtener el gráfico de la relación entre la señal agregada y la suma de las mediciones individuales de los dispositivos mediante una gráfica de área mediante el siguinte método  algo mas largo"
   ]
  },
  {
   "cell_type": "code",
   "execution_count": 4,
   "metadata": {},
   "outputs": [
    {
     "name": "stdout",
     "output_type": "stream",
     "text": [
      "Loading data for meter ElecMeterID(instance=12, building=1, dataset='iAWE')     \n",
      "Done loading data all meters for this chunk.\n"
     ]
    },
    {
     "data": {
      "text/plain": [
       "2013-05-24 10:00:00+05:30    627.230774\n",
       "2013-05-24 10:01:00+05:30    637.520996\n",
       "2013-05-24 10:02:00+05:30    550.206299\n",
       "2013-05-24 10:03:00+05:30    517.920288\n",
       "2013-05-24 10:04:00+05:30    633.477295\n",
       "                                ...    \n",
       "2013-09-18 08:36:00+05:30      1.316350\n",
       "2013-09-18 08:37:00+05:30      1.309550\n",
       "2013-09-18 08:38:00+05:30      1.296950\n",
       "2013-09-18 08:39:00+05:30      1.303717\n",
       "2013-09-18 08:40:00+05:30      1.316036\n",
       "Freq: 60S, Name: (power, active), Length: 168401, dtype: float32"
      ]
     },
     "execution_count": 4,
     "metadata": {},
     "output_type": "execute_result"
    }
   ],
   "source": [
    "elec.select(instance=[1,2,3,4,5,6,7,8,9,10,11,12]).power_series_all_data(ac_type='active', sample_period=60)[t0:t1]"
   ]
  },
  {
   "cell_type": "markdown",
   "metadata": {},
   "source": [
    "### Perfil de Voltaje"
   ]
  },
  {
   "cell_type": "code",
   "execution_count": 5,
   "metadata": {},
   "outputs": [],
   "source": [
    "#V2=next(elec[2].load())['voltage']\n",
    "V3=next(elec[3].load())['voltage']\n",
    "V4=next(elec[4].load())['voltage']\n",
    "V5=next(elec[5].load())['voltage']\n",
    "V6=next(elec[6].load())['voltage']\n",
    "V7=next(elec[7].load())['voltage']\n",
    "V8=next(elec[8].load())['voltage']\n",
    "V9=next(elec[9].load())['voltage']\n",
    "V10=next(elec[10].load())['voltage']\n",
    "V11=next(elec[11].load())['voltage']\n",
    "#V12=next(elec[12].load())['voltage']\n"
   ]
  },
  {
   "cell_type": "code",
   "execution_count": 6,
   "metadata": {},
   "outputs": [
    {
     "data": {
      "text/html": [
       "<div>\n",
       "<style scoped>\n",
       "    .dataframe tbody tr th:only-of-type {\n",
       "        vertical-align: middle;\n",
       "    }\n",
       "\n",
       "    .dataframe tbody tr th {\n",
       "        vertical-align: top;\n",
       "    }\n",
       "\n",
       "    .dataframe thead th {\n",
       "        text-align: right;\n",
       "    }\n",
       "</style>\n",
       "<table border=\"1\" class=\"dataframe\">\n",
       "  <thead>\n",
       "    <tr style=\"text-align: right;\">\n",
       "      <th></th>\n",
       "      <th>Indicador</th>\n",
       "      <th>Fridge</th>\n",
       "      <th>AACC</th>\n",
       "      <th>Washing machine</th>\n",
       "      <th>Computer</th>\n",
       "      <th>Clothes iron</th>\n",
       "      <th>Unknown</th>\n",
       "      <th>Television</th>\n",
       "      <th>Wet appliance</th>\n",
       "    </tr>\n",
       "  </thead>\n",
       "  <tbody>\n",
       "    <tr>\n",
       "      <th>0</th>\n",
       "      <td>Promedio</td>\n",
       "      <td>232.199997</td>\n",
       "      <td>0.0</td>\n",
       "      <td>189.0</td>\n",
       "      <td>0.0</td>\n",
       "      <td>0.3</td>\n",
       "      <td>186.199997</td>\n",
       "      <td>0.2</td>\n",
       "      <td>0.0</td>\n",
       "    </tr>\n",
       "    <tr>\n",
       "      <th>1</th>\n",
       "      <td>Máximo</td>\n",
       "      <td>232.199997</td>\n",
       "      <td>0.0</td>\n",
       "      <td>189.0</td>\n",
       "      <td>0.0</td>\n",
       "      <td>0.3</td>\n",
       "      <td>186.199997</td>\n",
       "      <td>0.2</td>\n",
       "      <td>0.0</td>\n",
       "    </tr>\n",
       "    <tr>\n",
       "      <th>2</th>\n",
       "      <td>Mínimo</td>\n",
       "      <td>232.199997</td>\n",
       "      <td>0.0</td>\n",
       "      <td>189.0</td>\n",
       "      <td>0.0</td>\n",
       "      <td>0.3</td>\n",
       "      <td>186.199997</td>\n",
       "      <td>0.2</td>\n",
       "      <td>0.0</td>\n",
       "    </tr>\n",
       "  </tbody>\n",
       "</table>\n",
       "</div>"
      ],
      "text/plain": [
       "  Indicador      Fridge  AACC  Washing machine  Computer  Clothes iron  \\\n",
       "0  Promedio  232.199997   0.0            189.0       0.0           0.3   \n",
       "1    Máximo  232.199997   0.0            189.0       0.0           0.3   \n",
       "2    Mínimo  232.199997   0.0            189.0       0.0           0.3   \n",
       "\n",
       "      Unknown  Television  Wet appliance  \n",
       "0  186.199997         0.2            0.0  \n",
       "1  186.199997         0.2            0.0  \n",
       "2  186.199997         0.2            0.0  "
      ]
     },
     "execution_count": 6,
     "metadata": {},
     "output_type": "execute_result"
    }
   ],
   "source": [
    "d = {'Indicador': ['Promedio', 'Máximo', 'Mínimo'],\n",
    "     'Fridge':    [round(V3.mean(),1), round(V3.mean(),1), round(V3.mean(),1)], #Voltaje fan\n",
    "     'AACC':    [round(V4.max(),1),  round(V4.max(),1),  round(V4.max(),1)],  #Voltaje frezer\n",
    "     'AACC':    [round(V5.min(),1),  round(V5.min(),1),  round(V5.min(),1)],  #Voltaje tv\n",
    "     'Washing machine':    [round(V6.min(),1),  round(V6.min(),1),  round(V6.min(),1)],  #Voltaje freezer\n",
    "     'Computer':    [round(V7.min(),1),  round(V7.min(),1),  round(V7.min(),1)],  #Voltaje freezer\n",
    "     'Clothes iron':    [round(V8.min(),1),  round(V8.min(),1),  round(V8.min(),1)],  #Voltaje freezer\n",
    "     'Unknown':    [round(V9.min(),1),  round(V9.min(),1),  round(V9.min(),1)],  #Voltaje freezer\n",
    "     'Television':    [round(V10.min(),1),  round(V10.min(),1),  round(V10.min(),1)],  #Voltaje freezer\n",
    "     'Wet appliance':    [round(V11.min(),1),  round(V11.min(),1),  round(V11.min(),1)]}  #Voltaje freezer\n",
    "#    'Motor':    [round(V12.min(),1),  round(V12.min(),1),  round(V12.min(),1)]}  #Voltaje freezer\n",
    "\n",
    "\n",
    "\n",
    "pd.DataFrame(d)"
   ]
  },
  {
   "cell_type": "markdown",
   "metadata": {},
   "source": [
    "## Gráfico del perfil de voltaje"
   ]
  },
  {
   "cell_type": "code",
   "execution_count": 7,
   "metadata": {},
   "outputs": [
    {
     "data": {
      "image/png": "[encoded data removed]",
      "text/plain": [
       "<Figure size 720x504 with 1 Axes>"
      ]
     },
     "metadata": {
      "needs_background": "light"
     },
     "output_type": "display_data"
    }
   ],
   "source": [
    "rcParams['figure.figsize'] = (10, 7)\n",
    "\n",
    "#redimensina el gráfico para reducir tamaño\n",
    "\n",
    "\n",
    "#V2=next(elec[2].load())['voltage']\n",
    "V3=next(elec[3].load(sample_period=60))['voltage']\n",
    "V4=next(elec[4].load(sample_period=60))['voltage']\n",
    "V5=next(elec[5].load(sample_period=60))['voltage']\n",
    "V6=next(elec[6].load(sample_period=60))['voltage']\n",
    "V7=next(elec[7].load(sample_period=60))['voltage']\n",
    "V8=next(elec[8].load(sample_period=60))['voltage']\n",
    "V9=next(elec[9].load(sample_period=60))['voltage']\n",
    "V10=next(elec[10].load(sample_period=60))['voltage']\n",
    "V11=next(elec[11].load(sample_period=60))['voltage']\n",
    "#V12=next(elec[12].load())['voltage']\n",
    "\n",
    "\n",
    "\n",
    "\n",
    "\n",
    "fig, (ax1) = plt.subplots(1, 1, gridspec_kw={'hspace': 0.4})\n",
    "\n",
    "ta = '2013-05-24 05:30:00+01:00' #tiempo inicial\n",
    "tb = '2013-09-18 12:58:00+01:00' #tiempo final\n",
    "\n",
    "\n",
    "V3[ta:tb].plot(ax=ax1, c='tab:gray', lw=1)\n",
    "V4[ta:tb].plot(ax=ax1, c='tab:pink', lw=1)\n",
    "V5[ta:tb].plot(ax=ax1, c='tab:blue', lw=1)\n",
    "V6[ta:tb].plot(ax=ax1, c='tab:orange', lw=1)\n",
    "V7[ta:tb].plot(ax=ax1, c='tab:green', lw=1)\n",
    "V8[ta:tb].plot(ax=ax1, c='tab:green', lw=1)\n",
    "V9[ta:tb].plot(ax=ax1, c='tab:brown', lw=1)\n",
    "V10[ta:tb].plot(ax=ax1, c='tab:green', lw=1)\n",
    "V11[ta:tb].plot(ax=ax1, c='tab:brown', lw=1)\n",
    "\n",
    "\n",
    "ax1.legend(list(Meters.values())[1:8], loc='upper right')\n",
    "ax1.set(ylim=(210,260))\n",
    "ax1.set(ylabel='Voltage  (V)')\n",
    "ax1.set(xticks=days[1:])\n",
    "\n",
    "\n",
    "#guarda gráfico\n",
    "plt.savefig('./data/images/2.8_voltage_profile.svg', bbox_inches='tight', transparent=True)\n",
    "plt.show()\n",
    "pass"
   ]
  },
  {
   "cell_type": "markdown",
   "metadata": {},
   "source": [
    "### Datos faltantes"
   ]
  },
  {
   "cell_type": "markdown",
   "metadata": {},
   "source": [
    "Los datos faltantes, huecos o gaps están determinados por los metadatos de cada tipo de medidor, específicamente en el ajuste del parámetro max_sample_period. Este valor indica el tiempo máximo que se tolera entre mediciones sin que se considere que el medidor está apagado"
   ]
  },
  {
   "cell_type": "code",
   "execution_count": 8,
   "metadata": {},
   "outputs": [
    {
     "data": {
      "text/plain": [
       "[TimeFrame(start='2013-05-24 05:30:00+05:30', end='2013-05-24 07:13:35+05:30', empty=False),\n",
       " TimeFrame(start='2013-05-24 09:07:19+05:30', end='2013-05-25 12:07:19+05:30', empty=False),\n",
       " TimeFrame(start='2013-05-25 13:38:35+05:30', end='2013-05-25 14:08:06+05:30', empty=False),\n",
       " TimeFrame(start='2013-05-25 14:36:51+05:30', end='2013-05-25 18:06:43+05:30', empty=False),\n",
       " TimeFrame(start='2013-05-25 19:07:08+05:30', end='2013-05-26 00:56:38+05:30', empty=False),\n",
       " TimeFrame(start='2013-05-26 01:50:55+05:30', end='2013-05-26 15:55:34+05:30', empty=False),\n",
       " TimeFrame(start='2013-05-26 16:18:08+05:30', end='2013-05-26 23:37:08+05:30', empty=False),\n",
       " TimeFrame(start='2013-05-27 00:12:16+05:30', end='2013-05-27 11:02:20+05:30', empty=False),\n",
       " TimeFrame(start='2013-05-27 11:25:28+05:30', end='2013-05-27 18:13:53+05:30', empty=False),\n",
       " TimeFrame(start='2013-05-27 18:26:24+05:30', end='2013-05-27 18:45:21+05:30', empty=False),\n",
       " TimeFrame(start='2013-05-27 19:25:30+05:30', end='2013-05-28 00:21:33+05:30', empty=False),\n",
       " TimeFrame(start='2013-05-28 00:39:35+05:30', end='2013-05-28 07:58:23+05:30', empty=False),\n",
       " TimeFrame(start='2013-05-28 08:47:21+05:30', end='2013-05-28 08:47:24+05:30', empty=False),\n",
       " TimeFrame(start='2013-05-28 08:52:49+05:30', end='2013-05-28 16:11:30+05:30', empty=False),\n",
       " TimeFrame(start='2013-05-28 16:25:35+05:30', end='2013-05-28 16:55:35+05:30', empty=False),\n",
       " TimeFrame(start='2013-05-28 17:10:37+05:30', end='2013-05-28 17:28:32+05:30', empty=False),\n",
       " TimeFrame(start='2013-05-28 18:21:51+05:30', end='2013-05-29 06:08:37+05:30', empty=False),\n",
       " TimeFrame(start='2013-05-29 06:32:54+05:30', end='2013-05-30 01:08:55+05:30', empty=False),\n",
       " TimeFrame(start='2013-05-30 02:38:09+05:30', end='2013-05-30 22:36:55+05:30', empty=False),\n",
       " TimeFrame(start='2013-05-30 23:22:40+05:30', end='2013-05-31 09:55:55+05:30', empty=False),\n",
       " TimeFrame(start='2013-05-31 11:53:57+05:30', end='2013-05-31 17:49:39+05:30', empty=False),\n",
       " TimeFrame(start='2013-05-31 18:11:54+05:30', end='2013-06-01 07:55:15+05:30', empty=False),\n",
       " TimeFrame(start='2013-06-01 08:11:46+05:30', end='2013-06-01 08:21:47+05:30', empty=False),\n",
       " TimeFrame(start='2013-06-01 10:25:35+05:30', end='2013-06-01 11:41:46+05:30', empty=False),\n",
       " TimeFrame(start='2013-06-01 11:52:40+05:30', end='2013-06-01 12:05:10+05:30', empty=False),\n",
       " TimeFrame(start='2013-06-01 12:16:04+05:30', end='2013-06-01 22:09:20+05:30', empty=False),\n",
       " TimeFrame(start='2013-06-02 06:49:00+05:30', end='2013-06-03 09:04:50+05:30', empty=False),\n",
       " TimeFrame(start='2013-06-03 09:47:22+05:30', end='2013-06-03 09:47:45+05:30', empty=False),\n",
       " TimeFrame(start='2013-06-03 10:10:47+05:30', end='2013-06-04 10:02:26+05:30', empty=False),\n",
       " TimeFrame(start='2013-06-04 12:03:12+05:30', end='2013-06-04 13:03:15+05:30', empty=False),\n",
       " TimeFrame(start='2013-06-04 13:18:17+05:30', end='2013-06-04 13:46:25+05:30', empty=False),\n",
       " TimeFrame(start='2013-06-04 14:43:57+05:30', end='2013-06-04 17:31:41+05:30', empty=False),\n",
       " TimeFrame(start='2013-06-04 18:16:09+05:30', end='2013-06-05 01:23:05+05:30', empty=False),\n",
       " TimeFrame(start='2013-06-05 02:46:30+05:30', end='2013-06-05 23:23:05+05:30', empty=False),\n",
       " TimeFrame(start='2013-06-06 04:43:05+05:30', end='2013-06-06 06:41:39+05:30', empty=False),\n",
       " TimeFrame(start='2013-06-06 08:13:12+05:30', end='2013-06-06 13:31:45+05:30', empty=False),\n",
       " TimeFrame(start='2013-06-06 15:12:30+05:30', end='2013-06-06 19:24:42+05:30', empty=False),\n",
       " TimeFrame(start='2013-06-06 23:23:51+05:30', end='2013-06-07 06:02:33+05:30', empty=False),\n",
       " TimeFrame(start='2013-06-07 07:00:03+05:30', end='2013-06-07 08:32:44+05:30', empty=False),\n",
       " TimeFrame(start='2013-06-07 08:41:28+05:30', end='2013-06-08 12:35:47+05:30', empty=False),\n",
       " TimeFrame(start='2013-06-08 13:19:04+05:30', end='2013-06-08 13:41:49+05:30', empty=False),\n",
       " TimeFrame(start='2013-06-08 15:02:19+05:30', end='2013-06-08 16:26:21+05:30', empty=False),\n",
       " TimeFrame(start='2013-06-08 16:46:14+05:30', end='2013-06-08 20:37:18+05:30', empty=False),\n",
       " TimeFrame(start='2013-06-08 22:27:43+05:30', end='2013-06-08 23:39:15+05:30', empty=False),\n",
       " TimeFrame(start='2013-06-09 00:16:27+05:30', end='2013-06-09 08:07:47+05:30', empty=False),\n",
       " TimeFrame(start='2013-06-09 08:46:02+05:30', end='2013-06-09 10:13:52+05:30', empty=False),\n",
       " TimeFrame(start='2013-06-09 11:10:56+05:30', end='2013-06-09 17:05:41+05:30', empty=False),\n",
       " TimeFrame(start='2013-06-09 17:27:56+05:30', end='2013-06-09 18:17:50+05:30', empty=False),\n",
       " TimeFrame(start='2013-06-09 18:37:24+05:30', end='2013-06-09 22:28:20+05:30', empty=False),\n",
       " TimeFrame(start='2013-06-10 00:22:41+05:30', end='2013-06-10 17:32:23+05:30', empty=False),\n",
       " TimeFrame(start='2013-06-10 18:03:17+05:30', end='2013-06-10 18:21:17+05:30', empty=False),\n",
       " TimeFrame(start='2013-06-10 18:57:56+05:30', end='2013-06-11 00:15:39+05:30', empty=False),\n",
       " TimeFrame(start='2013-06-11 02:42:00+05:30', end='2013-06-11 07:04:25+05:30', empty=False),\n",
       " TimeFrame(start='2013-06-11 07:34:03+05:30', end='2013-06-11 18:13:21+05:30', empty=False),\n",
       " TimeFrame(start='2013-06-11 18:48:46+05:30', end='2013-06-12 13:31:31+05:30', empty=False),\n",
       " TimeFrame(start='2013-06-12 13:43:09+05:30', end='2013-06-12 14:18:30+05:30', empty=False),\n",
       " TimeFrame(start='2013-06-12 16:13:30+05:30', end='2013-06-12 20:07:40+05:30', empty=False),\n",
       " TimeFrame(start='2013-06-12 20:39:26+05:30', end='2013-06-14 14:43:50+05:30', empty=False),\n",
       " TimeFrame(start='2013-06-14 15:04:10+05:30', end='2013-06-16 13:38:05+05:30', empty=False),\n",
       " TimeFrame(start='2013-06-16 16:28:22+05:30', end='2013-06-16 17:35:15+05:30', empty=False),\n",
       " TimeFrame(start='2013-06-16 20:52:08+05:30', end='2013-06-16 22:19:17+05:30', empty=False),\n",
       " TimeFrame(start='2013-06-16 22:41:03+05:30', end='2013-06-19 10:57:51+05:30', empty=False),\n",
       " TimeFrame(start='2013-06-19 14:29:42+05:30', end='2013-06-19 20:28:10+05:30', empty=False),\n",
       " TimeFrame(start='2013-06-19 20:59:48+05:30', end='2013-06-20 14:18:00+05:30', empty=False),\n",
       " TimeFrame(start='2013-06-20 14:37:49+05:30', end='2013-06-22 00:22:18+05:30', empty=False),\n",
       " TimeFrame(start='2013-06-22 01:25:27+05:30', end='2013-06-22 22:39:14+05:30', empty=False),\n",
       " TimeFrame(start='2013-06-23 00:09:59+05:30', end='2013-06-23 00:14:19+05:30', empty=False),\n",
       " TimeFrame(start='2013-06-23 00:36:38+05:30', end='2013-06-25 10:33:56+05:30', empty=False),\n",
       " TimeFrame(start='2013-06-25 11:36:00+05:30', end='2013-06-26 10:45:34+05:30', empty=False),\n",
       " TimeFrame(start='2013-06-26 13:20:26+05:30', end='2013-06-26 17:23:01+05:30', empty=False),\n",
       " TimeFrame(start='2013-06-26 17:36:39+05:30', end='2013-06-26 19:29:57+05:30', empty=False),\n",
       " TimeFrame(start='2013-06-26 19:36:37+05:30', end='2013-06-26 19:55:02+05:30', empty=False),\n",
       " TimeFrame(start='2013-06-26 20:03:42+05:30', end='2013-06-28 09:40:24+05:30', empty=False),\n",
       " TimeFrame(start='2013-06-28 10:14:31+05:30', end='2013-07-01 14:28:57+05:30', empty=False),\n",
       " TimeFrame(start='2013-07-01 15:22:33+05:30', end='2013-07-02 04:31:28+05:30', empty=False),\n",
       " TimeFrame(start='2013-07-02 05:29:38+05:30', end='2013-07-03 08:42:38+05:30', empty=False),\n",
       " TimeFrame(start='2013-07-03 08:55:51+05:30', end='2013-07-04 10:12:17+05:30', empty=False),\n",
       " TimeFrame(start='2013-07-04 10:20:22+05:30', end='2013-07-05 14:28:12+05:30', empty=False),\n",
       " TimeFrame(start='2013-07-05 14:38:59+05:30', end='2013-07-05 18:40:26+05:30', empty=False),\n",
       " TimeFrame(start='2013-07-05 19:31:50+05:30', end='2013-07-06 06:23:01+05:30', empty=False),\n",
       " TimeFrame(start='2013-07-06 07:15:25+05:30', end='2013-07-06 10:59:03+05:30', empty=False),\n",
       " TimeFrame(start='2013-07-06 11:05:37+05:30', end='2013-07-06 12:05:39+05:30', empty=False),\n",
       " TimeFrame(start='2013-07-06 12:20:56+05:30', end='2013-07-06 12:35:56+05:30', empty=False),\n",
       " TimeFrame(start='2013-07-06 12:47:21+05:30', end='2013-07-06 13:17:57+05:30', empty=False),\n",
       " TimeFrame(start='2013-07-06 13:48:48+05:30', end='2013-07-06 15:16:06+05:30', empty=False),\n",
       " TimeFrame(start='2013-07-06 15:37:15+05:30', end='2013-07-06 17:56:26+05:30', empty=False),\n",
       " TimeFrame(start='2013-07-06 18:15:37+05:30', end='2013-07-09 11:45:03+05:30', empty=False),\n",
       " TimeFrame(start='2013-07-09 13:22:46+05:30', end='2013-07-11 23:00:06+05:30', empty=False),\n",
       " TimeFrame(start='2013-07-12 01:01:55+05:30', end='2013-07-12 10:41:01+05:30', empty=False),\n",
       " TimeFrame(start='2013-07-12 17:40:31+05:30', end='2013-07-13 05:00:34+05:30', empty=False),\n",
       " TimeFrame(start='2013-07-13 06:31:29+05:30', end='2013-07-14 11:56:17+05:30', empty=False),\n",
       " TimeFrame(start='2013-07-14 12:48:08+05:30', end='2013-07-17 00:36:02+05:30', empty=False),\n",
       " TimeFrame(start='2013-07-17 00:46:40+05:30', end='2013-07-18 10:20:31+05:30', empty=False),\n",
       " TimeFrame(start='2013-07-18 10:31:10+05:30', end='2013-07-20 09:50:07+05:30', empty=False),\n",
       " TimeFrame(start='2013-07-20 09:56:46+05:30', end='2013-07-20 11:12:13+05:30', empty=False),\n",
       " TimeFrame(start='2013-07-20 11:25:10+05:30', end='2013-07-22 01:15:18+05:30', empty=False),\n",
       " TimeFrame(start='2013-07-22 02:01:45+05:30', end='2013-07-24 23:22:40+05:30', empty=False),\n",
       " TimeFrame(start='2013-07-24 23:39:26+05:30', end='2013-07-25 10:28:30+05:30', empty=False),\n",
       " TimeFrame(start='2013-07-25 11:08:23+05:30', end='2013-07-27 10:35:55+05:30', empty=False),\n",
       " TimeFrame(start='2013-07-27 11:14:34+05:30', end='2013-07-29 01:37:31+05:30', empty=False),\n",
       " TimeFrame(start='2013-07-29 03:24:09+05:30', end='2013-07-30 14:27:06+05:30', empty=False),\n",
       " TimeFrame(start='2013-07-30 14:46:54+05:30', end='2013-08-03 03:49:56+05:30', empty=False),\n",
       " TimeFrame(start='2013-08-03 06:08:35+05:30', end='2013-08-04 00:29:13+05:30', empty=False),\n",
       " TimeFrame(start='2013-08-04 01:47:45+05:30', end='2013-08-04 11:33:47+05:30', empty=False),\n",
       " TimeFrame(start='2013-08-04 12:20:03+05:30', end='2013-08-05 21:03:16+05:30', empty=False)]"
      ]
     },
     "execution_count": 8,
     "metadata": {},
     "output_type": "execute_result"
    }
   ],
   "source": [
    "elec[1].good_sections(full_results=True).combined() #secciones buenas Main_RST"
   ]
  },
  {
   "cell_type": "markdown",
   "metadata": {},
   "source": [
    "Visualizar de manera gráfica los datos faltantes "
   ]
  },
  {
   "cell_type": "code",
   "execution_count": 9,
   "metadata": {},
   "outputs": [
    {
     "data": {
      "image/png": "[encoded data removed]",
      "text/plain": [
       "<Figure size 720x504 with 2 Axes>"
      ]
     },
     "metadata": {
      "needs_background": "light"
     },
     "output_type": "display_data"
    }
   ],
   "source": [
    "rcParams['figure.figsize'] = (10, 7)\n",
    "\n",
    "fig, (ax1, ax2) = plt.subplots(2, 1, sharex=True, gridspec_kw={'hspace': 0.05,'height_ratios':[1,5]})\n",
    "\n",
    "elec[1].power_series_all_data().plot(ax=ax1, c='tab:red', lw=1.5)\n",
    "ax1.set_ylabel('Main (W)', fontsize=8.5)\n",
    "ax1.minorticks_off()\n",
    "\n",
    "elec.plot_good_sections(ax=ax2)\n",
    "ax2.set_yticklabels(reversed(list(Meters.values())))\n",
    "ax2.grid(axis='y')\n",
    "ax2.set(xticks=days)\n",
    "l=['2013-05-24','2013-08-01','2013-09-18']\n",
    "ax2.set_xticklabels(l, rotation=30, ha='right')\n",
    "\n",
    "#guarda gráfico\n",
    "plt.savefig('./data/images/2.9_good_sections.svg', bbox_inches='tight', transparent=True)\n",
    "plt.show()\n",
    "pass"
   ]
  },
  {
   "cell_type": "markdown",
   "metadata": {},
   "source": [
    "### Tasa de abandono y tiempo de funcionamiento\n",
    "\n",
    "#### Tasa de abandono\n",
    "Sin contar cuando el sistema no registra datos superando el tiempo máximo de muestreo, aunque también se perciben perdidas de datos debido al propio sistema de adquisición, lo cual se le llama abandono o dropout. \n",
    "\n",
    "La tasa de abandono (dropout rate) es por tanto  un número entre 0 y 1 que especifica la proporción de muestras faltantes. Una tasa de abandono de 0 significa que no faltan muestras y un valor de 1 significaría que faltan todas las muestras (100%). \n",
    "\n",
    "#### Tiempo de funcionamiento\n",
    "El tiempo de funcionamiento calculado estará condicionado al parámetro max_sample_period de cada medidor especificado en los metadatos. Si no se han registrado datos pasado  ese tiempo, se considera el medidor como apagado."
   ]
  },
  {
   "cell_type": "code",
   "execution_count": 10,
   "metadata": {},
   "outputs": [
    {
     "name": "stdout",
     "output_type": "stream",
     "text": [
      "Calculating dropout_rate for ElecMeterID(instance=12, building=1, dataset='iAWE') ...   "
     ]
    },
    {
     "data": {
      "text/html": [
       "<div>\n",
       "<style scoped>\n",
       "    .dataframe tbody tr th:only-of-type {\n",
       "        vertical-align: middle;\n",
       "    }\n",
       "\n",
       "    .dataframe tbody tr th {\n",
       "        vertical-align: top;\n",
       "    }\n",
       "\n",
       "    .dataframe thead th {\n",
       "        text-align: right;\n",
       "    }\n",
       "</style>\n",
       "<table border=\"1\" class=\"dataframe\">\n",
       "  <thead>\n",
       "    <tr style=\"text-align: right;\">\n",
       "      <th></th>\n",
       "      <th>Uptime</th>\n",
       "      <th>Dropout Rate</th>\n",
       "    </tr>\n",
       "  </thead>\n",
       "  <tbody>\n",
       "    <tr>\n",
       "      <th>Total</th>\n",
       "      <td>69 days 00:55:20</td>\n",
       "      <td>13.3</td>\n",
       "    </tr>\n",
       "  </tbody>\n",
       "</table>\n",
       "</div>"
      ],
      "text/plain": [
       "                 Uptime Dropout Rate\n",
       "Total  69 days 00:55:20         13.3"
      ]
     },
     "execution_count": 10,
     "metadata": {},
     "output_type": "execute_result"
    }
   ],
   "source": [
    "a=[]; b=[]; c=[]\n",
    "for meter, name in Meters.items():\n",
    "    a.append(name)\n",
    "    b.append(str(meter.uptime())) #tiempo de funcionamiento\n",
    "    c.append(round(meter.dropout_rate()*100,1)) #tasa de abandono\n",
    "\n",
    "a.append('Total')\n",
    "b.append(str(elec.uptime()))\n",
    "c.append(round(elec.dropout_rate()*100,1))\n",
    "    \n",
    "df=pd.DataFrame(data=[b,c], columns=a, index=['Uptime','Dropout Rate']).transpose()\n",
    "df"
   ]
  },
  {
   "cell_type": "markdown",
   "metadata": {},
   "source": [
    "### Registro de actividad"
   ]
  },
  {
   "cell_type": "markdown",
   "metadata": {},
   "source": [
    "Periodos de tiempo en que se registra una medición superior a un umbral definido (incluyendo peaks)."
   ]
  },
  {
   "cell_type": "code",
   "execution_count": 44,
   "metadata": {},
   "outputs": [],
   "source": [
    " labels = pd.DataFrame({'Instances': list(range(1,13)),\n",
    "                       'Meters': ['Medidor Princ.','M2', 'M.Fridge', 'M.AA', 'M.AA', 'M.Washing machine.','Computer','Clothes iron','unknown','tv','wet appliance','motor']})\n",
    "Meters={}\n",
    "for x in range(len(labels)): Meters[elec[x+1]]=labels['Meters'][x]"
   ]
  },
  {
   "cell_type": "code",
   "execution_count": 45,
   "metadata": {},
   "outputs": [
    {
     "name": "stdout",
     "output_type": "stream",
     "text": [
      "Color de fondo después:  (1.0, 1.0, 1.0, 1.0)\n"
     ]
    },
    {
     "data": {
      "image/png": "[encoded data removed]",
      "text/plain": [
       "<Figure size 720x504 with 1 Axes>"
      ]
     },
     "metadata": {
      "needs_background": "light"
     },
     "output_type": "display_data"
    }
   ],
   "source": [
    "rcParams['figure.figsize'] = (10, 7)\n",
    "\n",
    "Devices=elec.select(instance=[1,2,3,4,5,6,7,8,9,10,11]) #MeterGroup de dispositivos\n",
    "ax=Devices.plot_when_on(on_power_threshold=10) #umbral de 80 W\n",
    "\n",
    "#etiquetas\n",
    "ax.set_yticklabels(list(Meters.values())[0:11])\n",
    "ax.set(xticks=days)\n",
    "\n",
    "#guarda gráfico\n",
    "plt.savefig('./data/images/2.10_On_power1.pdf', bbox_inches='tight', transparent=True)\n",
    "plt.savefig('./data/images/2.10_On_power1.png', bbox_inches='tight', transparent=True, dpi=1200)\n",
    "#formatos savefig: eps, pdf, pgf, png, ps, raw, rgba, svg, svgz, evitar guardar .svg por el tamaño del archivo (50Mb)\n",
    "plt.show()\n",
    "pass\n"
   ]
  },
  {
   "cell_type": "markdown",
   "metadata": {},
   "source": [
    "### Graficos de Actividad por dispositivo y por día"
   ]
  },
  {
   "cell_type": "markdown",
   "metadata": {},
   "source": [
    "Veamos ahora el gráfico por Actividad para cada  dispositivo por día."
   ]
  },
  {
   "cell_type": "code",
   "execution_count": 42,
   "metadata": {
    "scrolled": false
   },
   "outputs": [
    {
     "data": {
      "image/png": "[encoded data removed]",
      "text/plain": [
       "<Figure size 720x504 with 11 Axes>"
      ]
     },
     "metadata": {
      "needs_background": "light"
     },
     "output_type": "display_data"
    }
   ],
   "source": [
    "colors_1 = ['tab:red','tab:orange','tab:red','tab:blue','tab:grey','tab:pink','tab:green','tab:blue','tab:gray','tab:orange','tab:green','tab:yellow','tab:black','tab:purple']\n",
    "#colors_1\n",
    "#rcParams['figure.figsize'] = (12, 10)\n",
    "fig, ((ax1, ax2,ax3, ax4,ax5, ax6,ax7,ax8,ax9,ax10,ax11)) = plt.subplots(11, 1, sharex=True, sharey=True, \n",
    "                                                                 gridspec_kw={'hspace': 0.17, 'wspace': 0.09})\n",
    "\n",
    "m=0\n",
    "\n",
    "\n",
    "\n",
    "for ax in fig.get_axes(): \n",
    "    list(Meters)[m].plot_activity_histogram(ax=ax, period='S', #periodo en segundos\n",
    "                                            bin_duration='S', #duración en segundos\n",
    "                                            on_power_threshold=10, #umbral de 10w\n",
    "                                            plot_kwargs={'color':colors_1[m]})\n",
    "    #labels\n",
    "    ttl=ax.set_title(labels['Meters'][m], fontsize=12)\n",
    "    ttl.set_position([.11, 1])\n",
    "    m=m+1\n",
    "    ax.grid(axis='x')\n",
    "\n",
    "\n",
    "#guarda gráfico\n",
    "plt.savefig('./data/images/2.12_Activity_histogram.svg',bbox_inches='tight', transparent=True)\n",
    "plt.show()\n",
    "pass"
   ]
  },
  {
   "cell_type": "markdown",
   "metadata": {},
   "source": [
    "### Mapa de calor con las mediciones de potencia activa del medidor Main "
   ]
  },
  {
   "cell_type": "markdown",
   "metadata": {},
   "source": [
    "Ahora veamos una representación de las potencias activas para el medidor principal para el periodo de una semana."
   ]
  },
  {
   "cell_type": "code",
   "execution_count": 13,
   "metadata": {
    "scrolled": true
   },
   "outputs": [
    {
     "data": {
      "image/png": "[encoded data removed]",
      "text/plain": [
       "<Figure size 720x360 with 2 Axes>"
      ]
     },
     "metadata": {
      "needs_background": "light"
     },
     "output_type": "display_data"
    }
   ],
   "source": [
    "import numpy as np\n",
    "import pandas as pd\n",
    "\n",
    "d=elec[1].power_series_all_data(sample_period=60, resample_kwargs={'how': 'mean'}).to_frame()\n",
    "d.fillna(0,inplace=True)\n",
    "\n",
    "#tomamos la potencia activa como referencia\n",
    "d.columns=['active']\n",
    "\n",
    "#indices para la consulta\n",
    "d['weekday']=d.index.weekday\n",
    "d['time']=d.index.time\n",
    "\n",
    "matrix=d.groupby(['weekday','time']).active.mean().unstack().values\n",
    "\n",
    "plt.figure(figsize=(10, 5))\n",
    "ax = plt.gca()\n",
    "plt.pcolor(matrix,cmap='PuBuGn')\n",
    "plt.xlim([0,48])\n",
    "ax.set_xticks(np.arange(0,49,3))\n",
    "ax.set_xticklabels(['10:00','10:15','10:30','10:45','11:00',\n",
    "                    '11:15','11:30','11:45','12:00','12:15','12:30','12:45','13:00','13:15','13:30','13:45','14:00'],rotation=30)\n",
    "ax.set_yticks(np.arange(0.5,7))\n",
    "ax.set_yticklabels(['Lunes','Martes','Miércoles','Jueves','Viernes','Sábado','Domingo'])\n",
    "plt.colorbar()\n",
    "ax.text(0.1, 7.4, 'Main', ha='left', va='center')\n",
    "ax.text(51, 7.4, 'Potencia (W)', ha='left', va='center') \n",
    "\n",
    "plt.savefig('./data/images/2.13_Use_power1.svg', bbox_inches='tight', transparent=True)\n",
    "plt.show()"
   ]
  },
  {
   "cell_type": "markdown",
   "metadata": {},
   "source": [
    "### Estadísticas de energía"
   ]
  },
  {
   "cell_type": "markdown",
   "metadata": {},
   "source": [
    "Cálculo de la energía total, es decir , las potencias activa, reactiva y aparente."
   ]
  },
  {
   "cell_type": "code",
   "execution_count": 14,
   "metadata": {},
   "outputs": [
    {
     "data": {
      "text/plain": [
       "active      360.497106\n",
       "apparent    386.912461\n",
       "reactive     30.660551\n",
       "dtype: float64"
      ]
     },
     "execution_count": 14,
     "metadata": {},
     "output_type": "execute_result"
    }
   ],
   "source": [
    "elec[1].total_energy()"
   ]
  },
  {
   "cell_type": "markdown",
   "metadata": {},
   "source": [
    "Cálculo de la energía (potencia activa) por medidores"
   ]
  },
  {
   "cell_type": "code",
   "execution_count": 15,
   "metadata": {},
   "outputs": [
    {
     "name": "stdout",
     "output_type": "stream",
     "text": [
      "12/12 ElecMeter(instance=12, building=1, dataset='iAWE', appliances=[Appliance(type='motor', instance=1)])nce=1)])"
     ]
    },
    {
     "data": {
      "text/html": [
       "<div>\n",
       "<style scoped>\n",
       "    .dataframe tbody tr th:only-of-type {\n",
       "        vertical-align: middle;\n",
       "    }\n",
       "\n",
       "    .dataframe tbody tr th {\n",
       "        vertical-align: top;\n",
       "    }\n",
       "\n",
       "    .dataframe thead th {\n",
       "        text-align: right;\n",
       "    }\n",
       "</style>\n",
       "<table border=\"1\" class=\"dataframe\">\n",
       "  <thead>\n",
       "    <tr style=\"text-align: right;\">\n",
       "      <th></th>\n",
       "      <th>kWh Hora</th>\n",
       "      <th>kWh Dia.</th>\n",
       "      <th>Total kWh</th>\n",
       "    </tr>\n",
       "  </thead>\n",
       "  <tbody>\n",
       "    <tr>\n",
       "      <th>Medidor Princ.</th>\n",
       "      <td>0.20</td>\n",
       "      <td>4.89</td>\n",
       "      <td>4.89</td>\n",
       "    </tr>\n",
       "    <tr>\n",
       "      <th>M2</th>\n",
       "      <td>0.57</td>\n",
       "      <td>13.65</td>\n",
       "      <td>13.65</td>\n",
       "    </tr>\n",
       "    <tr>\n",
       "      <th>M.Fridge</th>\n",
       "      <td>0.06</td>\n",
       "      <td>1.39</td>\n",
       "      <td>1.39</td>\n",
       "    </tr>\n",
       "    <tr>\n",
       "      <th>M.AA</th>\n",
       "      <td>0.08</td>\n",
       "      <td>1.99</td>\n",
       "      <td>1.99</td>\n",
       "    </tr>\n",
       "    <tr>\n",
       "      <th>M.AA</th>\n",
       "      <td>0.09</td>\n",
       "      <td>2.08</td>\n",
       "      <td>2.08</td>\n",
       "    </tr>\n",
       "    <tr>\n",
       "      <th>M.Washing machine.</th>\n",
       "      <td>0.00</td>\n",
       "      <td>0.04</td>\n",
       "      <td>0.04</td>\n",
       "    </tr>\n",
       "    <tr>\n",
       "      <th>Computer</th>\n",
       "      <td>0.02</td>\n",
       "      <td>0.41</td>\n",
       "      <td>0.41</td>\n",
       "    </tr>\n",
       "    <tr>\n",
       "      <th>Clothes iron</th>\n",
       "      <td>0.00</td>\n",
       "      <td>0.02</td>\n",
       "      <td>0.02</td>\n",
       "    </tr>\n",
       "    <tr>\n",
       "      <th>unknown</th>\n",
       "      <td>0.00</td>\n",
       "      <td>0.02</td>\n",
       "      <td>0.02</td>\n",
       "    </tr>\n",
       "    <tr>\n",
       "      <th>tv</th>\n",
       "      <td>0.01</td>\n",
       "      <td>0.21</td>\n",
       "      <td>0.21</td>\n",
       "    </tr>\n",
       "    <tr>\n",
       "      <th>wet appliance</th>\n",
       "      <td>0.00</td>\n",
       "      <td>0.02</td>\n",
       "      <td>0.02</td>\n",
       "    </tr>\n",
       "    <tr>\n",
       "      <th>motor</th>\n",
       "      <td>0.00</td>\n",
       "      <td>0.03</td>\n",
       "      <td>0.03</td>\n",
       "    </tr>\n",
       "  </tbody>\n",
       "</table>\n",
       "</div>"
      ],
      "text/plain": [
       "                    kWh Hora  kWh Dia.  Total kWh\n",
       "Medidor Princ.          0.20      4.89       4.89\n",
       "M2                      0.57     13.65      13.65\n",
       "M.Fridge                0.06      1.39       1.39\n",
       "M.AA                    0.08      1.99       1.99\n",
       "M.AA                    0.09      2.08       2.08\n",
       "M.Washing machine.      0.00      0.04       0.04\n",
       "Computer                0.02      0.41       0.41\n",
       "Clothes iron            0.00      0.02       0.02\n",
       "unknown                 0.00      0.02       0.02\n",
       "tv                      0.01      0.21       0.21\n",
       "wet appliance           0.00      0.02       0.02\n",
       "motor                   0.00      0.03       0.03"
      ]
     },
     "execution_count": 15,
     "metadata": {},
     "output_type": "execute_result"
    }
   ],
   "source": [
    "#energía por submedidor kwH diaria promedio\n",
    "d1=elec.energy_per_meter(ac_type=['active'], per_period='H').round(2) # kWh, per_period='D'\n",
    "#energía por submedidor kwH semanal promedio\n",
    "d2=elec.energy_per_meter(ac_type=['active'], per_period='D').round(2) # kWh, per_period='W'\n",
    "\n",
    "#energía por submedidor kwH total\n",
    "#d3=elec.energy_per_meter(ac_type=['active']).round(2) # kWh, per_period='D'\n",
    "d3=elec.energy_per_meter(ac_type=['active'], per_period='D').round(2) # kWh, per_period='D'\n",
    "\n",
    "\n",
    "df=d1.append([d2,d3]).drop(index=['apparent', 'reactive']).transpose()\n",
    "df.index = [list(labels['Meters'])]\n",
    "df.columns = ['kWh Hora','kWh Dia.','Total kWh']\n",
    "df"
   ]
  },
  {
   "cell_type": "markdown",
   "metadata": {},
   "source": [
    "### Proporción de energía submedida respecto a la medición agregada."
   ]
  },
  {
   "cell_type": "markdown",
   "metadata": {},
   "source": [
    "Se usa la función original  proportion_of_energy_submetered que se ha modificado para representar correctamente las etiquetas, dando paso a proportion_of_energy_submetered_2 en  donde se pueden especificar por separado el medidor principal y los submedidores. Esta funcion se integra en metergroup.py  que almacenamos en users\\USUARIO\\anaconda3\\envs\\nilmtk-env\\Lib\\site-packages\\nilmtk\\metergroup.py"
   ]
  },
  {
   "cell_type": "code",
   "execution_count": 16,
   "metadata": {},
   "outputs": [
    {
     "name": "stdout",
     "output_type": "stream",
     "text": [
      "Running MeterGroup.proportion_of_energy_submetered...\n"
     ]
    },
    {
     "data": {
      "text/plain": [
       "5.18767339711525"
      ]
     },
     "execution_count": 16,
     "metadata": {},
     "output_type": "execute_result"
    }
   ],
   "source": [
    "Devices=elec.select(instance=[1,2,3,4,5,6,7,8,9,10,11]) #MeterGroup de dispositivos\n",
    "elec.proportion_of_energy_submetered_2(elec[1], Devices, ac_type='active')"
   ]
  },
  {
   "cell_type": "markdown",
   "metadata": {},
   "source": [
    "### Síntesis del dataset\n",
    "NILMTK ofrece una función que permite obtener un resumen de un MeterGroup en base a los medidores que contiene. Esta función engloba varias de las funciones que se han ejecutado anteriormente."
   ]
  },
  {
   "cell_type": "code",
   "execution_count": 17,
   "metadata": {},
   "outputs": [
    {
     "name": "stdout",
     "output_type": "stream",
     "text": [
      "Running MeterGroup.correlation_of_sum_of_submeters_with_mains...\n",
      "Loading data for meter ElecMeterID(instance=2, building=1, dataset='iAWE')     \n",
      "Done loading data all meters for this chunk.\n",
      "Loading data for meter ElecMeterID(instance=12, building=1, dataset='iAWE')     \n",
      "Done loading data all meters for this chunk.\n",
      "Loading data for meter ElecMeterID(instance=2, building=1, dataset='iAWE')     \n",
      "Done loading data all meters for this chunk.\n",
      "Loading data for meter ElecMeterID(instance=12, building=1, dataset='iAWE')     \n",
      "Done loading data all meters for this chunk.\n",
      "Loading data for meter ElecMeterID(instance=2, building=1, dataset='iAWE')     \n",
      "Done loading data all meters for this chunk.\n",
      "Loading data for meter ElecMeterID(instance=12, building=1, dataset='iAWE')     \n",
      "Done loading data all meters for this chunk.\n",
      "Running MeterGroup.proportion_of_energy_submetered...\n",
      "Calculating total_energy for ElecMeterID(instance=2, building=1, dataset='iAWE') ...    "
     ]
    },
    {
     "data": {
      "text/plain": [
       "total_n_meters                                                                               12\n",
       "total_n_site_meters                                                                           2\n",
       "correlation_of_sum_of_submeters_with_mains                                             0.838585\n",
       "proportion_of_energy_submetered                                                        0.372128\n",
       "dropout_rates_ignoring_gaps                   min=0.009995750283066363, mean=0.1334828025500...\n",
       "mains_sample_period                                                                           1\n",
       "submeter_sample_period                                                                        6\n",
       "timeframe                                     start=2013-05-24 05:30:00+05:30, end=2013-09-1...\n",
       "total_duration                                                                117 days 03:10:55\n",
       "mains_uptime                                                                   69 days 00:55:20\n",
       "proportion_uptime                                                                      0.589404\n",
       "average_mains_energy_per_day                  active      19.787095\n",
       "apparent          NaN\n",
       "re...\n",
       "dtype: object"
      ]
     },
     "execution_count": 17,
     "metadata": {},
     "output_type": "execute_result"
    }
   ],
   "source": [
    "elec.describe(elec.select(instance=[2,3,4,5,6,7,8,9,10,11]))"
   ]
  },
  {
   "cell_type": "code",
   "execution_count": null,
   "metadata": {},
   "outputs": [],
   "source": []
  }
 ],
 "metadata": {
  "kernelspec": {
   "display_name": "Python (nilmtk-env)",
   "language": "python",
   "name": "nilmtk-env"
  },
  "language_info": {
   "codemirror_mode": {
    "name": "ipython",
    "version": 3
   },
   "file_extension": ".py",
   "mimetype": "text/x-python",
   "name": "python",
   "nbconvert_exporter": "python",
   "pygments_lexer": "ipython3",
   "version": "3.8.12"
  }
 },
 "nbformat": 4,
 "nbformat_minor": 4
}
